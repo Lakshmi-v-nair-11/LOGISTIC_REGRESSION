{
  "nbformat": 4,
  "nbformat_minor": 0,
  "metadata": {
    "colab": {
      "provenance": [],
      "mount_file_id": "1EpiUvBDL-nPGsQ6IVJ_qiku6MuF4X-8o",
      "authorship_tag": "ABX9TyMw3Tqh11cAw5QjwxjJ78LR",
      "include_colab_link": true
    },
    "kernelspec": {
      "name": "python3",
      "display_name": "Python 3"
    },
    "language_info": {
      "name": "python"
    }
  },
  "cells": [
    {
      "cell_type": "markdown",
      "metadata": {
        "id": "view-in-github",
        "colab_type": "text"
      },
      "source": [
        "<a href=\"https://colab.research.google.com/github/Lakshmi-v-nair-11/LOGISTIC_REGRESSION/blob/main/Untitled0.ipynb\" target=\"_parent\"><img src=\"https://colab.research.google.com/assets/colab-badge.svg\" alt=\"Open In Colab\"/></a>"
      ]
    },
    {
      "cell_type": "code",
      "execution_count": null,
      "metadata": {
        "id": "pAo_fHBz6FZF"
      },
      "outputs": [],
      "source": [
        "import pandas as pd\n",
        "from sklearn.model_selection import train_test_split\n",
        "from sklearn.linear_model import LogisticRegression\n",
        "from sklearn.metrics import accuracy_score\n",
        "\n",
        "# Load the diabetes dataset\n",
        "diabetes_data = pd.read_csv('/content/drive/MyDrive/data mining/diabetes dataset for training.csv')  # Assuming 'diabetes.csv' is the dataset file name\n",
        "\n",
        "# Split the dataset into features (X) and target variable (y)\n",
        "X = diabetes_data.drop('Outcome', axis=1)\n",
        "y = diabetes_data['Outcome']\n",
        "\n",
        "# Split the data into training and testing sets\n",
        "X_train, X_test, y_train, y_test = train_test_split(X, y, test_size=0.2, random_state=42)\n",
        "\n",
        "# Create a logistic regression model\n",
        "model = LogisticRegression()\n",
        "\n",
        "# Train the model on the training data\n",
        "model.fit(X_train, y_train)\n",
        "\n",
        "# Make predictions on the test data\n",
        "y_pred = model.predict(X_test)\n",
        "\n",
        "# Evaluate the model\n",
        "accuracy = accuracy_score(y_test, y_pred)\n",
        "\n",
        "# Print the evaluation results\n",
        "print('Accuracy:', accuracy)\n",
        "\n",
        "new_data = pd.DataFrame([[8, 183, 64, 0, 0, 23.3, 0.672, 32]])\n",
        "#new_data_scaled = scaler.transform(new_data)\n",
        "prediction = model.predict(new_data)\n",
        "print('Prediction:', prediction)"
      ]
    },
    {
      "cell_type": "code",
      "source": [
        "new_data = pd.DataFrame([[8, 183, 64, 0, 0, 23.3, 0.672, 32]])\n",
        "#new_data_scaled = scaler.transform(new_data)\n",
        "prediction = model.predict(new_data)\n",
        "print('Prediction:', prediction)\n",
        "if(prediction==1):\n",
        "  print(\"diabetic\")\n",
        "else:\n",
        "  print(\"Not diabetic\")\n",
        "\n"
      ],
      "metadata": {
        "colab": {
          "base_uri": "https://localhost:8080/"
        },
        "id": "Y-mqwya_8MVC",
        "outputId": "30cc1677-b61c-4b89-8515-8ee1ef74bf6c"
      },
      "execution_count": 3,
      "outputs": [
        {
          "output_type": "stream",
          "name": "stdout",
          "text": [
            "Prediction: [1]\n",
            "diabetic\n"
          ]
        },
        {
          "output_type": "stream",
          "name": "stderr",
          "text": [
            "/usr/local/lib/python3.10/dist-packages/sklearn/base.py:439: UserWarning: X does not have valid feature names, but LogisticRegression was fitted with feature names\n",
            "  warnings.warn(\n"
          ]
        }
      ]
    }
  ]
}